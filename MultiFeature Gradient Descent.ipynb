{
  "nbformat": 4,
  "nbformat_minor": 0,
  "metadata": {
    "colab": {
      "name": "Untitled10.ipynb",
      "provenance": [],
      "authorship_tag": "ABX9TyNoHBAIL/eMskWdMc8K2ttn",
      "include_colab_link": true
    },
    "kernelspec": {
      "name": "python3",
      "display_name": "Python 3"
    }
  },
  "cells": [
    {
      "cell_type": "markdown",
      "metadata": {
        "id": "view-in-github",
        "colab_type": "text"
      },
      "source": [
        "<a href=\"https://colab.research.google.com/github/FazilShah/Machine-Learning/blob/master/MultiFeature%20Gradient%20Descent.ipynb\" target=\"_parent\"><img src=\"https://colab.research.google.com/assets/colab-badge.svg\" alt=\"Open In Colab\"/></a>"
      ]
    },
    {
      "cell_type": "code",
      "metadata": {
        "id": "OX3BXvQHkNds",
        "colab_type": "code",
        "colab": {}
      },
      "source": [
        "import matplotlib.pyplot as plt\n",
        "import numpy as np\n",
        "from mpl_toolkits import mplot3d"
      ],
      "execution_count": null,
      "outputs": []
    },
    {
      "cell_type": "code",
      "metadata": {
        "id": "3OvwZB7ukad7",
        "colab_type": "code",
        "colab": {}
      },
      "source": [
        "Data = np.loadtxt('data2.txt', delimiter = ',')\n",
        "x1 = Data[:,0]\n",
        "x2 = Data[:,1]\n",
        "y = Data[:,2]"
      ],
      "execution_count": null,
      "outputs": []
    },
    {
      "cell_type": "code",
      "metadata": {
        "id": "nUrfFhgin8bb",
        "colab_type": "code",
        "colab": {}
      },
      "source": [
        "mean1 = np.mean(x1)\n",
        "mean2 = np.mean(x2)\n",
        "meany = np.mean(y)"
      ],
      "execution_count": null,
      "outputs": []
    },
    {
      "cell_type": "code",
      "metadata": {
        "id": "uBS6rguUk_bP",
        "colab_type": "code",
        "colab": {}
      },
      "source": [
        "def cost_func(x1, x2, y, theta0, theta1, theta2):\n",
        "  cost_initial = 0\n",
        "  mean1 = np.mean(x1)\n",
        "  mean2 = np.mean(x2)\n",
        "  meany = np.mean(y)\n",
        "  for  i in range (len(y)):\n",
        "    x1_scaled = (x1[i] - mean1)/(np.std(x1))\n",
        "    x2_scaled = (x2[i] - mean2)/(np.std(x2))\n",
        "    y_scaled = (y[i] - meany)/(np.std(y))\n",
        "    cost_initial+=((theta0 + theta1*x1_scaled + theta2*x2_scaled) - y_scaled)**2\n",
        "  return cost_initial/(2*len(y))"
      ],
      "execution_count": null,
      "outputs": []
    },
    {
      "cell_type": "code",
      "metadata": {
        "id": "zCYFniRqntDc",
        "colab_type": "code",
        "colab": {}
      },
      "source": [
        "def step_gradient(x1,x2,y,alpha,theta0, theta1, theta2):\n",
        "  new_theta0 = theta0\n",
        "  new_theta1 = theta1\n",
        "  new_theta2 = theta2\n",
        "  mean1 = np.mean(x1)\n",
        "  mean2 = np.mean(x2)\n",
        "  meany = np.mean(y)\n",
        "  initial_sum = 0\n",
        "  initial_sum1 = 0\n",
        "  initial_sum2 = 0\n",
        "\n",
        "  for i in range(len(y)):\n",
        "    x1_scaled = (x1[i] - mean1)/(np.std(x1))\n",
        "    x2_scaled = (x2[i] - mean2)/(np.std(x2))\n",
        "    initial_sum += (((new_theta0) + (new_theta1*x1_scaled) + (new_theta2*x2_scaled)) - (y[i]))\n",
        "    initial_sum1 += (((new_theta0) + (new_theta1*x1_scaled) + (new_theta2*x2_scaled)) - (y[i]))*(x1_scaled)\n",
        "    initial_sum2 += (((new_theta0) + (new_theta1*x1_scaled) + (new_theta2*x2_scaled)) - (y[i]))*(x2_scaled)\n",
        "  new_theta0 = new_theta0 - ((alpha*initial_sum)/(float(len(y))))\n",
        "  new_theta1 = new_theta1 - ((alpha*initial_sum1)/(len(y)))\n",
        "  new_theta2 = new_theta2 - ((alpha*initial_sum2)/(len(y)))\n",
        "  return [new_theta0, new_theta1, new_theta2]\n",
        "\n"
      ],
      "execution_count": null,
      "outputs": []
    },
    {
      "cell_type": "code",
      "metadata": {
        "id": "Ess-VAYMtNOM",
        "colab_type": "code",
        "colab": {}
      },
      "source": [
        "def gradient_descent(x1,x2,y,alpha,theta0, theta1, theta2,iterations):\n",
        "  for i  in range(iterations):\n",
        "    theta0, theta1, theta2 = step_gradient(x1,x2,y,alpha,theta0, theta1, theta2)\n",
        "  return theta0, theta1, theta2"
      ],
      "execution_count": null,
      "outputs": []
    },
    {
      "cell_type": "code",
      "metadata": {
        "id": "Wbl5_S9otqA_",
        "colab_type": "code",
        "colab": {}
      },
      "source": [
        "a,b,c = gradient_descent(x1,x2,y,0.01,0,0,0,700)"
      ],
      "execution_count": null,
      "outputs": []
    },
    {
      "cell_type": "code",
      "metadata": {
        "id": "77ZjTfWKxKxa",
        "colab_type": "code",
        "colab": {
          "base_uri": "https://localhost:8080/",
          "height": 34
        },
        "outputId": "fe3c90ba-8b0b-49f6-895b-8e66264b6dad"
      },
      "source": [
        "(1650 - mean1)/(np.std(x1))"
      ],
      "execution_count": null,
      "outputs": [
        {
          "output_type": "execute_result",
          "data": {
            "text/plain": [
              "-0.4460438603276164"
            ]
          },
          "metadata": {
            "tags": []
          },
          "execution_count": 40
        }
      ]
    },
    {
      "cell_type": "code",
      "metadata": {
        "id": "WlwTQsksxkiz",
        "colab_type": "code",
        "colab": {
          "base_uri": "https://localhost:8080/",
          "height": 34
        },
        "outputId": "f60a0ae2-f913-42c8-f11b-5aa71014a1bf"
      },
      "source": [
        "(3-mean2)/(np.std(x2))"
      ],
      "execution_count": null,
      "outputs": [
        {
          "output_type": "execute_result",
          "data": {
            "text/plain": [
              "-0.2260933675776883"
            ]
          },
          "metadata": {
            "tags": []
          },
          "execution_count": 41
        }
      ]
    },
    {
      "cell_type": "code",
      "metadata": {
        "id": "Mwe11vBExrKD",
        "colab_type": "code",
        "colab": {
          "base_uri": "https://localhost:8080/",
          "height": 34
        },
        "outputId": "861aa5a4-d23b-438d-abbd-14288976abee"
      },
      "source": [
        "a + (b*(-0.446)) + (c*(-0.226))"
      ],
      "execution_count": null,
      "outputs": [
        {
          "output_type": "execute_result",
          "data": {
            "text/plain": [
              "293369.02059800195"
            ]
          },
          "metadata": {
            "tags": []
          },
          "execution_count": 64
        }
      ]
    }
  ]
}