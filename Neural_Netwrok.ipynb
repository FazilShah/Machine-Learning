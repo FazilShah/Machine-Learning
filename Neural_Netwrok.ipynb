{
  "nbformat": 4,
  "nbformat_minor": 0,
  "metadata": {
    "colab": {
      "name": "Neural Netwrok.ipynb",
      "provenance": [],
      "collapsed_sections": [],
      "authorship_tag": "ABX9TyOk2Y60h9BvqR0zcFY59zrz",
      "include_colab_link": true
    },
    "kernelspec": {
      "name": "python3",
      "display_name": "Python 3"
    }
  },
  "cells": [
    {
      "cell_type": "markdown",
      "metadata": {
        "id": "view-in-github",
        "colab_type": "text"
      },
      "source": [
        "<a href=\"https://colab.research.google.com/github/FazilShah/Machine-Learning/blob/master/Neural_Netwrok.ipynb\" target=\"_parent\"><img src=\"https://colab.research.google.com/assets/colab-badge.svg\" alt=\"Open In Colab\"/></a>"
      ]
    },
    {
      "cell_type": "code",
      "metadata": {
        "id": "TRYZKGwVwNAJ",
        "colab_type": "code",
        "colab": {}
      },
      "source": [
        "import numpy as np\n",
        "import pandas as pd\n",
        "from scipy import optimize"
      ],
      "execution_count": null,
      "outputs": []
    },
    {
      "cell_type": "code",
      "metadata": {
        "id": "tGsRycXBwjXT",
        "colab_type": "code",
        "colab": {}
      },
      "source": [
        "def hyp(z):\n",
        "  return 1/(1+np.exp(-z))"
      ],
      "execution_count": null,
      "outputs": []
    },
    {
      "cell_type": "code",
      "metadata": {
        "id": "AnMYvLke7hz5",
        "colab_type": "code",
        "colab": {}
      },
      "source": [
        "def gradsigmoid(z):\n",
        "  return np.multiply(hyp(z),(1-hyp(z)))"
      ],
      "execution_count": null,
      "outputs": []
    },
    {
      "cell_type": "code",
      "metadata": {
        "id": "OZnXj9XT9yjj",
        "colab_type": "code",
        "colab": {}
      },
      "source": [
        "def rand_param(a,b,epsilon):\n",
        "  return (np.random.rand(a,b+1)*2*epsilon) - epsilon"
      ],
      "execution_count": null,
      "outputs": []
    },
    {
      "cell_type": "code",
      "metadata": {
        "id": "qSCDoVOYwqfA",
        "colab_type": "code",
        "colab": {}
      },
      "source": [
        "Data = pd.ExcelFile('ex3d1.xlsx')\n",
        "Theta1 = pd.read_excel(Data, 'theta1', header= None)\n",
        "Theta2 = pd.read_excel(Data, 'theta2', header=None)\n",
        "X = pd.read_excel(Data, 'X', header=None)\n",
        "Y = pd.read_excel(Data, 'y', header=None)"
      ],
      "execution_count": null,
      "outputs": []
    },
    {
      "cell_type": "code",
      "metadata": {
        "id": "zU0rhNILyeBD",
        "colab_type": "code",
        "colab": {}
      },
      "source": [
        "def nnCostFunction(nn_params ,*args):\n",
        "  a1 = 0\n",
        "  a2 = 0\n",
        "  input_layer_size, hidden_layer_size,num_labels,X, Y,lamda = args \n",
        "  theta1 = np.reshape(nn_params[:hidden_layer_size*(input_layer_size+1)], (hidden_layer_size, input_layer_size+1), 'F')\n",
        "  theta2 = np.reshape(nn_params[hidden_layer_size*(input_layer_size+1):], (num_labels, hidden_layer_size+1), 'F')\n",
        "  theta1 = np.asarray(theta1)\n",
        "  theta2 = np.asarray(theta2)\n",
        "  Theta1_grad = np.zeros((hidden_layer_size,input_layer_size+1))\n",
        "  Theta2_grad = np.zeros((num_labels,hidden_layer_size+1))\n",
        "  #this part relabels Y as (m,k) matrix where K = no. of lables & m = training examples.\n",
        "  Ind = np.eye(num_labels)\n",
        "  new_Y = np.zeros((len(Y),num_labels), dtype=int)\n",
        "  for i in range(len(Y)):\n",
        "    index = Y.loc[i] - 1\n",
        "    new_Y[i,:] = Ind[index,:]\n",
        "  #this part does the feedforward implementation to compute error\n",
        "\n",
        "  a1 = X\n",
        "  z2 = np.matmul(np.asarray(a1),np.asarray(np.transpose(theta1)))\n",
        "  a2 = hyp(z2)\n",
        "  a2 = np.insert(a2,0,1,axis=1)\n",
        "  z3 = np.matmul(np.asarray(a2), np.asarray(np.transpose(theta2)))\n",
        "  a3 = hyp(z3)\n",
        "\n",
        "  cost_vec = np.multiply((-new_Y),np.log(a3)) - np.multiply((1-new_Y),np.log(1-a3))\n",
        "\n",
        "  cost = np.sum(cost_vec,axis=1)\n",
        "  J = (1/len(Y))*sum(cost)\n",
        "  \n",
        "\n",
        "  #This part calculates the cost of regularized\n",
        "  theta1nobias = theta1[:,1:]\n",
        "  theta2nobias = theta2[:,1:]\n",
        "  reg = np.sum(np.square(theta1nobias)) + np.sum(np.square(theta2nobias))\n",
        "  reg2 = (lamda*reg)/(2*len(Y))\n",
        "  J+=reg2\n",
        "  return J\n",
        "  #This part calculates Theta1_grad and Theta2_grad\n",
        "def gradients(nn_params ,*args):\n",
        "  Delta1 = 0\n",
        "  Delta2 = 0\n",
        "  input_layer_size, hidden_layer_size,num_labels,X, Y,lamda = args \n",
        "  theta1 = np.reshape(nn_params[:hidden_layer_size*(input_layer_size+1)], (hidden_layer_size, input_layer_size+1), 'F')\n",
        "  theta2 = np.reshape(nn_params[hidden_layer_size*(input_layer_size+1):], (num_labels, hidden_layer_size+1), 'F')\n",
        "  theta1nobias = theta1[:,1:]\n",
        "  theta2nobias = theta2[:,1:]\n",
        "  Ind = np.eye(num_labels)\n",
        "  new_Y = np.zeros((len(Y),num_labels), dtype=int)\n",
        "  for i in range(len(Y)):\n",
        "    index = Y.loc[i] - 1\n",
        "    new_Y[i,:] = Ind[index,:]\n",
        "  for i in range(len(Y)):\n",
        "    a11 = np.asarray(X.loc[i,:])\n",
        "    a11 = np.reshape(a11,(input_layer_size+1,1))\n",
        "    z22 = np.matmul(theta1,a11)\n",
        "    a22 = np.asarray(hyp(z22))\n",
        "    a22 = np.insert(a22,0,1)\n",
        "    z33 = np.matmul(theta2,a22)\n",
        "    a33 = np.asarray(hyp(z33))\n",
        "\n",
        "    #now we will calculate errors in each layer (layer size = 3)\n",
        "\n",
        "    d3 = a33 - new_Y[i,:]\n",
        "    d21 = np.matmul(np.transpose(theta2nobias),d3)\n",
        "    d2 = np.multiply(np.reshape(d21,(hidden_layer_size,1)), gradsigmoid(z22))\n",
        "    d3c = np.reshape(d3,(num_labels,1))\n",
        "    a2c = np.reshape(a22,(hidden_layer_size+1,1)) \n",
        "    Delta1 = Delta1 +  np.matmul(d2,np.transpose(a11))\n",
        "    Delta2 = Delta2 + np.matmul(d3c, np.transpose(a2c))\n",
        "  \n",
        "  Theta1_grad = (1/(len(Y)))*Delta1\n",
        "  Theta2_grad = (1/(len(Y)))*Delta2\n",
        "\n",
        "  Theta1_grad[:,1:] = Theta1_grad[:,1:] + (lamda/len(Y))*theta1nobias\n",
        "  Theta2_grad[:,1:] = Theta2_grad[:,1:] + (lamda/len(Y))*theta2nobias\n",
        "\n",
        "  return  np.hstack((Theta1_grad.ravel(order='F'), Theta2_grad.ravel(order='F')))"
      ],
      "execution_count": null,
      "outputs": []
    },
    {
      "cell_type": "code",
      "metadata": {
        "id": "kkLcfNr074iI",
        "colab_type": "code",
        "colab": {}
      },
      "source": [
        "initial_theta1 = rand_param(25,400,0.12)\n",
        "initial_theta2 = rand_param(10,25,0.12)\n",
        "nn_initial_params = np.hstack((initial_theta1.ravel(order='F'), initial_theta2.ravel(order='F')))\n"
      ],
      "execution_count": null,
      "outputs": []
    },
    {
      "cell_type": "code",
      "metadata": {
        "id": "UEQ4iX0QAvzt",
        "colab_type": "code",
        "colab": {}
      },
      "source": [
        "X.insert(0,'0',1)"
      ],
      "execution_count": null,
      "outputs": []
    },
    {
      "cell_type": "code",
      "metadata": {
        "id": "w_MTI6h68oNB",
        "colab_type": "code",
        "colab": {}
      },
      "source": [
        "args = (400,25,10,X,Y,1)"
      ],
      "execution_count": null,
      "outputs": []
    },
    {
      "cell_type": "code",
      "metadata": {
        "id": "eHMRbL3hqJg1",
        "colab_type": "code",
        "colab": {}
      },
      "source": [
        "res1 = optimize.fmin_cg(nnCostFunction,nn_initial_params,gradients,args,maxiter=50)"
      ],
      "execution_count": null,
      "outputs": []
    },
    {
      "cell_type": "code",
      "metadata": {
        "id": "VkD38fBBXN4f",
        "colab_type": "code",
        "colab": {}
      },
      "source": [
        "def Gradient_check(params, *args):\n",
        "  nparams = params.flatten()\n",
        "  input_layer_size, hidden_layer_size,num_labels,X, Y,lamda = args\n",
        "  esp = 0.0001\n",
        "  for i in range(10):\n",
        "    x = int(np.random.rand()*len(nparams))\n",
        "    diff = np.zeros((len(params),1))\n",
        "    print(x)\n",
        "    diff[x] = esp\n",
        "    low_cost = nnCostFunction(nparams-diff.flatten(), *args)\n",
        "    high_cost = nnCostFunction(nparams+diff.flatten(), *args)\n",
        "    num_grad = (high_cost - low_cost)/(2*esp)\n",
        "    print(num_grad)\n",
        "    print(gradients(nparams,400,25,10,X,Y,1)[x])\n",
        "\n"
      ],
      "execution_count": null,
      "outputs": []
    },
    {
      "cell_type": "code",
      "metadata": {
        "id": "Z8puHdqJbb8C",
        "colab_type": "code",
        "colab": {}
      },
      "source": [
        ""
      ],
      "execution_count": null,
      "outputs": []
    },
    {
      "cell_type": "code",
      "metadata": {
        "id": "oI65_j7VafnO",
        "colab_type": "code",
        "colab": {
          "base_uri": "https://localhost:8080/",
          "height": 550
        },
        "outputId": "48af2ace-fc6e-47b4-f66c-ceaa15b65aea"
      },
      "source": [
        "Gradient_check(nn_initial_params, 400,25,10,X,Y,1)"
      ],
      "execution_count": null,
      "outputs": [
        {
          "output_type": "stream",
          "text": [
            "5532\n",
            "3.762274936036647e-06\n",
            "3.7622563228988317e-06\n",
            "5802\n",
            "-0.01733303173878653\n",
            "-0.01733303158855285\n",
            "5797\n",
            "-0.008358149190534903\n",
            "-0.008358149078466411\n",
            "7630\n",
            "0.005927289623564036\n",
            "0.005927289627060342\n",
            "8442\n",
            "4.627153327163569e-05\n",
            "4.627145944229761e-05\n",
            "2921\n",
            "0.0008126048411938314\n",
            "0.0008126047980264244\n",
            "6103\n",
            "0.0014218748312089247\n",
            "0.0014218749936164912\n",
            "2124\n",
            "0.00016642240918685047\n",
            "0.0001664224311328214\n",
            "8434\n",
            "-0.00018892495123878916\n",
            "-0.00018892491022800325\n",
            "4722\n",
            "-0.0037031654853691975\n",
            "-0.0037031656515665577\n"
          ],
          "name": "stdout"
        }
      ]
    }
  ]
}