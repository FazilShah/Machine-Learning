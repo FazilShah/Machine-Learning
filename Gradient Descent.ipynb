{
  "nbformat": 4,
  "nbformat_minor": 0,
  "metadata": {
    "colab": {
      "name": "Untitled11.ipynb",
      "provenance": [],
      "authorship_tag": "ABX9TyN0SrEr6ZEj+JmcRDnb4dWW",
      "include_colab_link": true
    },
    "kernelspec": {
      "name": "python3",
      "display_name": "Python 3"
    }
  },
  "cells": [
    {
      "cell_type": "markdown",
      "metadata": {
        "id": "view-in-github",
        "colab_type": "text"
      },
      "source": [
        "<a href=\"https://colab.research.google.com/github/FazilShah/Machine-Learning/blob/master/Gradient%20Descent.ipynb\" target=\"_parent\"><img src=\"https://colab.research.google.com/assets/colab-badge.svg\" alt=\"Open In Colab\"/></a>"
      ]
    },
    {
      "cell_type": "code",
      "metadata": {
        "id": "U2OoJ3cFi6-7",
        "colab_type": "code",
        "colab": {}
      },
      "source": [
        "import matplotlib.pyplot as plt\n",
        "import numpy as np\n",
        "import math"
      ],
      "execution_count": null,
      "outputs": []
    },
    {
      "cell_type": "code",
      "metadata": {
        "id": "l4aFcaA9jNeX",
        "colab_type": "code",
        "colab": {}
      },
      "source": [
        "data = np.loadtxt('logistic data.txt', delimiter = ',')\n",
        "x1 = data[:,0]\n",
        "x2 = data[:,1]\n",
        "y = data[:,2]"
      ],
      "execution_count": null,
      "outputs": []
    },
    {
      "cell_type": "code",
      "metadata": {
        "id": "09qz3KpOjlVk",
        "colab_type": "code",
        "colab": {
          "base_uri": "https://localhost:8080/",
          "height": 265
        },
        "outputId": "262e836b-12b8-4854-cde8-376b5349b804"
      },
      "source": [
        "for i in range(len(x1)):\n",
        "  if y[i] == 1:\n",
        "    plt.scatter(x1[i], x2[i], c = 'r')\n",
        "  else:\n",
        "    plt.scatter(x1[i], x2[i], c = 'b')\n",
        "plt.show()\n"
      ],
      "execution_count": null,
      "outputs": [
        {
          "output_type": "display_data",
          "data": {
            "image/png": "[encoded data removed]",
            "text/plain": [
              "<Figure size 432x288 with 1 Axes>"
            ]
          },
          "metadata": {
            "tags": [],
            "needs_background": "light"
          }
        }
      ]
    },
    {
      "cell_type": "code",
      "metadata": {
        "id": "CYzGcbBYt9rX",
        "colab_type": "code",
        "colab": {}
      },
      "source": [
        "def sigmoid(th0, th1, th2, x1, x2):\n",
        "  z= th0 + (th1*x1) + (th2*x2)\n",
        "  return 1/(1+math.exp(-z))"
      ],
      "execution_count": null,
      "outputs": []
    },
    {
      "cell_type": "code",
      "metadata": {
        "id": "GUlQHo-FuZLl",
        "colab_type": "code",
        "colab": {}
      },
      "source": [
        "def step_gradient(theta0, theta1, theta2, x1, x2, y, alpha):\n",
        "  new_theta0 = theta0\n",
        "  new_theta1 = theta1\n",
        "  new_theta2 = theta2\n",
        "  gradient0 = 0\n",
        "  gradient1 = 0\n",
        "  gradient2 = 0\n",
        "  mean1 = np.mean(x1)\n",
        "  mean2 = np.mean(x2)\n",
        "  for i in range(len(x1)):\n",
        "    x12 = (x1[i]- mean1)/(np.std(x1))\n",
        "    x22 = (x2[i]- mean2)/(np.std(x2))\n",
        "    gradient0 += sigmoid(new_theta0, new_theta1, new_theta2, x12, x22) - y[i]\n",
        "    gradient1 += (sigmoid(new_theta0, new_theta1, new_theta2, x12, x22) - y[i])*x12\n",
        "    gradient2 += (sigmoid(new_theta0, new_theta1, new_theta2, x12, x22) - y[i])*x22\n",
        "\n",
        "  new_theta0 = new_theta0 - ((alpha*gradient0)/100)\n",
        "  new_theta1 = new_theta1 - ((alpha*gradient1)/100)\n",
        "  new_theta2 = new_theta2 - ((alpha*gradient2)/100)\n",
        "\n",
        "  return new_theta0, new_theta1, new_theta2\n",
        "\n"
      ],
      "execution_count": null,
      "outputs": []
    },
    {
      "cell_type": "code",
      "metadata": {
        "id": "0SyKLcRkxg2c",
        "colab_type": "code",
        "colab": {}
      },
      "source": [
        "def gradient_descent(theta0, theta1, theta2, x1, x2, y, alpha, iterations):\n",
        "  costarray = []\n",
        "  for i in range(iterations):\n",
        "    theta0, theta1, theta2 = step_gradient(theta0, theta1, theta2, x1, x2, y, alpha)\n",
        "    gr = cost(theta0, theta1,theta2,x1,x2)\n",
        "  return theta0, theta1, theta2"
      ],
      "execution_count": null,
      "outputs": []
    },
    {
      "cell_type": "code",
      "metadata": {
        "id": "xMHk5PXRyaZf",
        "colab_type": "code",
        "colab": {
          "base_uri": "https://localhost:8080/",
          "height": 34
        },
        "outputId": "bc428ee6-7992-4495-c01c-30e5baf7ec95"
      },
      "source": [
        "gradient_descent(0,0,0, x1,x2,y,0.1,1000)"
      ],
      "execution_count": null,
      "outputs": [
        {
          "output_type": "execute_result",
          "data": {
            "text/plain": [
              "(1.271307404855522, 3.048598912865148, 2.8128542788905295)"
            ]
          },
          "metadata": {
            "tags": []
          },
          "execution_count": 16
        }
      ]
    },
    {
      "cell_type": "code",
      "metadata": {
        "id": "f2KMHiR_oNbt",
        "colab_type": "code",
        "colab": {}
      },
      "source": [
        "def sigmoid2(z):\n",
        "  return 1/(1+np.exp(-z))"
      ],
      "execution_count": null,
      "outputs": []
    },
    {
      "cell_type": "code",
      "metadata": {
        "id": "vDLPKAwwovsM",
        "colab_type": "code",
        "colab": {}
      },
      "source": [
        "def predict(x1,x2):\n",
        "  a = (x1-65.64)/19.36\n",
        "  b = (x2-66.22)/18.48\n",
        "  prob = sigmoid2(1.27 + (3.04*a) + (2.81*b))\n",
        "  if prob >= 0.5:\n",
        "    return 1\n",
        "  else:\n",
        "    return 0\n"
      ],
      "execution_count": null,
      "outputs": []
    },
    {
      "cell_type": "code",
      "metadata": {
        "id": "PzCAI3VcpJYs",
        "colab_type": "code",
        "colab": {}
      },
      "source": [
        "def accuracy_check(x1, x2,y):\n",
        "  count = 0\n",
        "  for i in range(len(y)):\n",
        "    if predict(x1[i],x2[i]) == y[i]:\n",
        "      count+=1\n",
        "  return count"
      ],
      "execution_count": null,
      "outputs": []
    },
    {
      "cell_type": "code",
      "metadata": {
        "id": "QftC6qLhp4Km",
        "colab_type": "code",
        "colab": {
          "base_uri": "https://localhost:8080/",
          "height": 34
        },
        "outputId": "b4b3e316-3825-4357-d68b-52ebfe84442e"
      },
      "source": [
        "accuracy_check(x1,x2,y)"
      ],
      "execution_count": null,
      "outputs": [
        {
          "output_type": "execute_result",
          "data": {
            "text/plain": [
              "89"
            ]
          },
          "metadata": {
            "tags": []
          },
          "execution_count": 56
        }
      ]
    },
    {
      "cell_type": "code",
      "metadata": {
        "id": "izXqBDDMvzAX",
        "colab_type": "code",
        "colab": {
          "base_uri": "https://localhost:8080/",
          "height": 51
        },
        "outputId": "4afae09d-5270-4f27-f1f5-819ff60cdcf6"
      },
      "source": [
        "predict(35,80)"
      ],
      "execution_count": null,
      "outputs": [
        {
          "output_type": "stream",
          "text": [
            "0.1906327184771683\n"
          ],
          "name": "stdout"
        },
        {
          "output_type": "execute_result",
          "data": {
            "text/plain": [
              "0"
            ]
          },
          "metadata": {
            "tags": []
          },
          "execution_count": 67
        }
      ]
    },
    {
      "cell_type": "code",
      "metadata": {
        "id": "a5Z2HgCL-u-e",
        "colab_type": "code",
        "colab": {}
      },
      "source": [
        "def cost(th0, th1, th2, x1, x2):\n",
        "  mean1 = np.mean(x1)\n",
        "  mean2 = np.mean(x2)\n",
        "\n",
        "  initial_cost = 0\n",
        "  for i in range(len(x1)):\n",
        "    x12 = (x1[i]- mean1)/(np.std(x1))\n",
        "    x22 = (x2[i]- mean2)/(np.std(x2))\n",
        "    initial_cost += (y[i]*np.log(sigmoid(th0, th1, th2, x12, x22))) + ((1-y[i])*np.log(1-sigmoid(th0, th1, th2, x12, x22)))\n",
        "  return -(initial_cost/len(x1))\n",
        "\n"
      ],
      "execution_count": null,
      "outputs": []
    }
  ]
}