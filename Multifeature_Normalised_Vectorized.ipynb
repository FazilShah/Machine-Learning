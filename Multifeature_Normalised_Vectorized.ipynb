{
  "nbformat": 4,
  "nbformat_minor": 0,
  "metadata": {
    "colab": {
      "name": "Multifeature_Normalised_Vectorized.ipynb",
      "provenance": [],
      "authorship_tag": "ABX9TyNc3G9pw/bQt/R9jAy6UA+k",
      "include_colab_link": true
    },
    "kernelspec": {
      "name": "python3",
      "display_name": "Python 3"
    }
  },
  "cells": [
    {
      "cell_type": "markdown",
      "metadata": {
        "id": "view-in-github",
        "colab_type": "text"
      },
      "source": [
        "<a href=\"https://colab.research.google.com/github/FazilShah/Machine-Learning/blob/master/Multifeature_Normalised_Vectorized.ipynb\" target=\"_parent\"><img src=\"https://colab.research.google.com/assets/colab-badge.svg\" alt=\"Open In Colab\"/></a>"
      ]
    },
    {
      "cell_type": "code",
      "metadata": {
        "id": "eM41bsQtC879",
        "colab_type": "code",
        "colab": {}
      },
      "source": [
        "import numpy as np"
      ],
      "execution_count": null,
      "outputs": []
    },
    {
      "cell_type": "code",
      "metadata": {
        "id": "NfbKNsh0MPoU",
        "colab_type": "code",
        "colab": {}
      },
      "source": [
        "data = np.loadtxt('data2.txt', delimiter=',')"
      ],
      "execution_count": null,
      "outputs": []
    },
    {
      "cell_type": "code",
      "metadata": {
        "id": "X1QaLVj9MYrJ",
        "colab_type": "code",
        "colab": {}
      },
      "source": [
        "A = data[:,0:2]\n",
        "Y = data[:,2]"
      ],
      "execution_count": null,
      "outputs": []
    },
    {
      "cell_type": "code",
      "metadata": {
        "id": "N1XSYJr-MkFc",
        "colab_type": "code",
        "colab": {}
      },
      "source": [
        "Feat = np.reshape(A, (47,2))\n",
        "Out = np.reshape(Y, (47,1))"
      ],
      "execution_count": null,
      "outputs": []
    },
    {
      "cell_type": "code",
      "metadata": {
        "id": "N5WRPRiwMyfy",
        "colab_type": "code",
        "colab": {}
      },
      "source": [
        "mean1 = np.mean(Feat[:,0])\n",
        "mean2 = np.mean(Feat[:,1])\n",
        "std1 = np.std(Feat[:,0])\n",
        "std2 = np.std(Feat[:,1])"
      ],
      "execution_count": null,
      "outputs": []
    },
    {
      "cell_type": "code",
      "metadata": {
        "id": "Dtp6z9zgNd55",
        "colab_type": "code",
        "colab": {}
      },
      "source": [
        "Feat[:,0] = (Feat[:,0] - mean1)*(1/std1)\n",
        "Feat[:,1] = (Feat[:,1] - mean2)*(1/std2)"
      ],
      "execution_count": null,
      "outputs": []
    },
    {
      "cell_type": "code",
      "metadata": {
        "id": "HbcWTIA_Ok5J",
        "colab_type": "code",
        "colab": {}
      },
      "source": [
        "def step_gradient(thetas, feat, Y, alpha):\n",
        "  m = len(Y)\n",
        "  new_thetas = thetas\n",
        "  vec1 = np.matmul(feat, new_thetas) - Y\n",
        "  vec2 = np.matmul(np.transpose(feat), vec1)\n",
        "  new_thetas = new_thetas - (vec2*(alpha/m))\n",
        "  return new_thetas"
      ],
      "execution_count": null,
      "outputs": []
    },
    {
      "cell_type": "code",
      "metadata": {
        "id": "4Ko38JiUPyLD",
        "colab_type": "code",
        "colab": {}
      },
      "source": [
        "def gradient_descent(new_thetas, feat, Y, alpha, iterations):\n",
        "  for i in range(iterations):\n",
        "    new_thetas = step_gradient(new_thetas, feat, Y, alpha)\n",
        "  return new_thetas"
      ],
      "execution_count": null,
      "outputs": []
    },
    {
      "cell_type": "code",
      "metadata": {
        "id": "ghuqvfD3QRcO",
        "colab_type": "code",
        "colab": {}
      },
      "source": [
        "thetas = np.zeros((3,1), dtype = float)"
      ],
      "execution_count": null,
      "outputs": []
    },
    {
      "cell_type": "code",
      "metadata": {
        "id": "ydsrmXzDQhTy",
        "colab_type": "code",
        "colab": {}
      },
      "source": [
        "feat1 = np.insert(Feat, 0, 1, axis = 1)\n"
      ],
      "execution_count": null,
      "outputs": []
    },
    {
      "cell_type": "code",
      "metadata": {
        "id": "o0ZKi0hIQJkX",
        "colab_type": "code",
        "colab": {
          "base_uri": "https://localhost:8080/",
          "height": 70
        },
        "outputId": "2a833394-941c-4ae2-c1fd-6eb9dd6567cf"
      },
      "source": [
        "gradient_descent(thetas, feat1, Out, 0.1, 1500)"
      ],
      "execution_count": null,
      "outputs": [
        {
          "output_type": "execute_result",
          "data": {
            "text/plain": [
              "array([[340412.65957447],\n",
              "       [109447.79646964],\n",
              "       [ -6578.35485416]])"
            ]
          },
          "metadata": {
            "tags": []
          },
          "execution_count": 99
        }
      ]
    }
  ]
}