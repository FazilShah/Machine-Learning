{
  "nbformat": 4,
  "nbformat_minor": 0,
  "metadata": {
    "colab": {
      "name": "Multiclass Logistic Regression.ipynb",
      "provenance": [],
      "authorship_tag": "ABX9TyPrc4pCrT7gXnQLsoRkx3t3",
      "include_colab_link": true
    },
    "kernelspec": {
      "name": "python3",
      "display_name": "Python 3"
    }
  },
  "cells": [
    {
      "cell_type": "markdown",
      "metadata": {
        "id": "view-in-github",
        "colab_type": "text"
      },
      "source": [
        "<a href=\"https://colab.research.google.com/github/FazilShah/Machine-Learning/blob/master/Multiclass_Logistic_Regression.ipynb\" target=\"_parent\"><img src=\"https://colab.research.google.com/assets/colab-badge.svg\" alt=\"Open In Colab\"/></a>"
      ]
    },
    {
      "cell_type": "code",
      "metadata": {
        "id": "NHgUyYGW4Aqq",
        "colab_type": "code",
        "colab": {}
      },
      "source": [
        "import numpy as np\n",
        "import pandas as pd"
      ],
      "execution_count": null,
      "outputs": []
    },
    {
      "cell_type": "code",
      "metadata": {
        "id": "trK7aDqN6Rh6",
        "colab_type": "code",
        "colab": {}
      },
      "source": [
        "data = pd.ExcelFile('ex3d1.xlsx')\n",
        "X = pd.read_excel(data, 'X', header = None)\n",
        "Y = pd.read_excel(data, 'y', header = None)"
      ],
      "execution_count": null,
      "outputs": []
    },
    {
      "cell_type": "code",
      "metadata": {
        "id": "5nb6wVBJbVU5",
        "colab_type": "code",
        "colab": {}
      },
      "source": [
        "X.insert(0,'1', 1)"
      ],
      "execution_count": null,
      "outputs": []
    },
    {
      "cell_type": "code",
      "metadata": {
        "id": "X_foguB4EsHP",
        "colab_type": "code",
        "colab": {}
      },
      "source": [
        "y1 = np.empty((5000,10), dtype = float)"
      ],
      "execution_count": null,
      "outputs": []
    },
    {
      "cell_type": "code",
      "metadata": {
        "id": "czE-iSOWBBNd",
        "colab_type": "code",
        "colab": {
          "base_uri": "https://localhost:8080/",
          "height": 34
        },
        "outputId": "c41ee36f-5e76-4863-9ab8-b67f09e53c8d"
      },
      "source": [
        "m = np.asarray(Y)\n",
        "m.shape"
      ],
      "execution_count": null,
      "outputs": [
        {
          "output_type": "execute_result",
          "data": {
            "text/plain": [
              "(5000, 1)"
            ]
          },
          "metadata": {
            "tags": []
          },
          "execution_count": 45
        }
      ]
    },
    {
      "cell_type": "code",
      "metadata": {
        "id": "lIw2v17ZIJPZ",
        "colab_type": "code",
        "colab": {
          "base_uri": "https://localhost:8080/",
          "height": 34
        },
        "outputId": "0385dc42-42ba-4696-b54c-603403156705"
      },
      "source": [
        "labels = [10,1,2,3,4,5,6,7,8,9]"
      ],
      "execution_count": null,
      "outputs": [
        {
          "output_type": "execute_result",
          "data": {
            "text/plain": [
              "10"
            ]
          },
          "metadata": {
            "tags": []
          },
          "execution_count": 58
        }
      ]
    },
    {
      "cell_type": "code",
      "metadata": {
        "id": "B_5Q4v6AGT8I",
        "colab_type": "code",
        "colab": {}
      },
      "source": [
        "for i in range(1,len(labels)):\n",
        "  for j in range(5000):\n",
        "    if m[j] == labels[i]:\n",
        "      y1[j,i] = 1\n",
        "    else:\n",
        "      y1[j,i] = 0"
      ],
      "execution_count": null,
      "outputs": []
    },
    {
      "cell_type": "code",
      "metadata": {
        "id": "H7Z5m_WcG086",
        "colab_type": "code",
        "colab": {}
      },
      "source": [
        "brr = pd.DataFrame(y1)"
      ],
      "execution_count": null,
      "outputs": []
    },
    {
      "cell_type": "code",
      "metadata": {
        "id": "XWACYspXZg2x",
        "colab_type": "code",
        "colab": {}
      },
      "source": [
        "thetas = np.zeros((401,1), dtype = float)"
      ],
      "execution_count": null,
      "outputs": []
    },
    {
      "cell_type": "code",
      "metadata": {
        "id": "LUL0t7QMZxjR",
        "colab_type": "code",
        "colab": {}
      },
      "source": [
        "def h(z):\n",
        "  return 1/(1+np.exp(-z))"
      ],
      "execution_count": null,
      "outputs": []
    },
    {
      "cell_type": "code",
      "metadata": {
        "id": "1uNgo4K4aDfH",
        "colab_type": "code",
        "colab": {}
      },
      "source": [
        "def step_gradient(thetas, X, Y, alpha):\n",
        "  new_thetas = thetas\n",
        "  vec1 = h(np.matmul(X, thetas)) \n",
        "  vec2 = np.reshape((vec1), (5000,1))\n",
        "  vec0 = vec2 - np.reshape(Y,(5000,1))\n",
        "  vec5 = np.reshape(vec0, (5000,1))\n",
        "  vec3 = np.matmul(np.transpose(X), vec5)\n",
        "  new_thetas = new_thetas - ((alpha/len(Y))*vec3)\n",
        "  return new_thetas"
      ],
      "execution_count": null,
      "outputs": []
    },
    {
      "cell_type": "code",
      "metadata": {
        "id": "m5SycRoJcwBa",
        "colab_type": "code",
        "colab": {}
      },
      "source": [
        "def gradient_descent(new_thetas, X, Y, alpha, iterations):\n",
        "  for i in range(iterations):\n",
        "    new_thetas = step_gradient(new_thetas, X, Y, alpha)\n",
        "  return new_thetas"
      ],
      "execution_count": null,
      "outputs": []
    },
    {
      "cell_type": "code",
      "metadata": {
        "id": "xBv3NBUDdEs1",
        "colab_type": "code",
        "colab": {}
      },
      "source": [
        "def multi_class(new_thetas, X, Y, alpha, iterations):\n",
        "  arr = []\n",
        "  for k in range(10):\n",
        "    item = gradient_descent(new_thetas, X, Y[:,k], alpha, iterations)\n",
        "    arr.append(item)\n",
        "  return arr\n"
      ],
      "execution_count": null,
      "outputs": []
    },
    {
      "cell_type": "code",
      "metadata": {
        "id": "TToS4Dhjd9q_",
        "colab_type": "code",
        "colab": {}
      },
      "source": [
        "result = multi_class(thetas, news, y1, 0.1, 400)\n"
      ],
      "execution_count": null,
      "outputs": []
    },
    {
      "cell_type": "code",
      "metadata": {
        "id": "khz9-CdNisgq",
        "colab_type": "code",
        "colab": {}
      },
      "source": [
        "final = np.asarray(result)\n",
        "final.shape\n",
        "grand = final.reshape((10,401))"
      ],
      "execution_count": null,
      "outputs": []
    },
    {
      "cell_type": "code",
      "metadata": {
        "id": "bsUXNwjhkMFF",
        "colab_type": "code",
        "colab": {}
      },
      "source": [
        "grr = pd.DataFrame(grand)"
      ],
      "execution_count": null,
      "outputs": []
    },
    {
      "cell_type": "code",
      "metadata": {
        "id": "J8nho796kR1j",
        "colab_type": "code",
        "colab": {
          "base_uri": "https://localhost:8080/",
          "height": 70
        },
        "outputId": "e361f0e0-1612-402e-83a1-6bd98373bb55"
      },
      "source": [
        "zzz = h(np.matmul(news[2488,:], np.transpose(grand)))\n",
        "zzz.max"
      ],
      "execution_count": null,
      "outputs": [
        {
          "output_type": "execute_result",
          "data": {
            "text/plain": [
              "array([2.93716353e-04, 2.59215589e-03, 5.54480006e-03, 1.06273915e-01,\n",
              "       6.87862302e-01, 1.40727995e-01, 2.83714078e-02, 9.77676836e-03,\n",
              "       5.54914310e-02, 3.08956213e-01])"
            ]
          },
          "metadata": {
            "tags": []
          },
          "execution_count": 161
        }
      ]
    },
    {
      "cell_type": "code",
      "metadata": {
        "id": "_XiXbjD3gBCc",
        "colab_type": "code",
        "colab": {}
      },
      "source": [
        "pred =h(np.matmul(news, thetas)).shape"
      ],
      "execution_count": null,
      "outputs": []
    },
    {
      "cell_type": "code",
      "metadata": {
        "id": "9WpqmMSQh4Ve",
        "colab_type": "code",
        "colab": {
          "base_uri": "https://localhost:8080/",
          "height": 141
        },
        "outputId": "3d4d487d-9396-4eab-d8ad-38eae72514b1"
      },
      "source": [
        "pred - np.reshape(y1[:,0], (5000,1))"
      ],
      "execution_count": null,
      "outputs": [
        {
          "output_type": "execute_result",
          "data": {
            "text/plain": [
              "array([[4.999e+03, 0.000e+00],\n",
              "       [4.999e+03, 0.000e+00],\n",
              "       [4.999e+03, 0.000e+00],\n",
              "       ...,\n",
              "       [5.000e+03, 1.000e+00],\n",
              "       [5.000e+03, 1.000e+00],\n",
              "       [5.000e+03, 1.000e+00]])"
            ]
          },
          "metadata": {
            "tags": []
          },
          "execution_count": 114
        }
      ]
    },
    {
      "cell_type": "code",
      "metadata": {
        "id": "ZfZinzL6fWc1",
        "colab_type": "code",
        "colab": {
          "base_uri": "https://localhost:8080/",
          "height": 34
        },
        "outputId": "2e2d1386-fac7-4653-c64c-3d1791696c96"
      },
      "source": [
        "news = np.asarray(X)\n",
        "news.shape"
      ],
      "execution_count": null,
      "outputs": [
        {
          "output_type": "execute_result",
          "data": {
            "text/plain": [
              "(5000, 401)"
            ]
          },
          "metadata": {
            "tags": []
          },
          "execution_count": 97
        }
      ]
    }
  ]
}