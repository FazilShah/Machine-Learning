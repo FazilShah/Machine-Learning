{
  "nbformat": 4,
  "nbformat_minor": 0,
  "metadata": {
    "colab": {
      "name": "Untitled3.ipynb",
      "provenance": [],
      "include_colab_link": true
    },
    "kernelspec": {
      "name": "python3",
      "display_name": "Python 3"
    }
  },
  "cells": [
    {
      "cell_type": "markdown",
      "metadata": {
        "id": "view-in-github",
        "colab_type": "text"
      },
      "source": [
        "<a href=\"https://colab.research.google.com/github/FazilShah/Machine-Learning/blob/master/Gradient%20Descent%20-%20Linear%20Regression.ipynb\" target=\"_parent\"><img src=\"https://colab.research.google.com/assets/colab-badge.svg\" alt=\"Open In Colab\"/></a>"
      ]
    },
    {
      "cell_type": "code",
      "metadata": {
        "id": "63kcIaUW12SN",
        "colab_type": "code",
        "colab": {}
      },
      "source": [
        "import numpy as np\n",
        "import matplotlib.pyplot as plt\n",
        "\n",
        "def compute_cost():\n",
        "  x = data[:,0]\n",
        "  y = data[:,1]\n",
        "  total_error = 0\n",
        "  m = len(x)\n",
        "  for i in range(m):\n",
        "    total_error += ((theta0 + theta1*x[i]) - y[i])**2\n",
        "  return total_error/(2*m)"
      ],
      "execution_count": null,
      "outputs": []
    },
    {
      "cell_type": "code",
      "metadata": {
        "id": "zeDc4die3K1K",
        "colab_type": "code",
        "colab": {}
      },
      "source": [
        "def step_gradient(theta0, theta1, data, alpha):\n",
        "  new_theta0 = theta0\n",
        "  new_theta1 = theta1\n",
        "  theta0_gradient = 0\n",
        "  theta1_gradient = 0\n",
        "  x = data[:,0]\n",
        "  y = data[:,1]\n",
        "  m = len(x)\n",
        "  for i in range(m):\n",
        "    theta0_gradient += ((new_theta0 + new_theta1*x[i]) - y[i])\n",
        "    theta1_gradient += (((new_theta0 + new_theta1*x[i])-y[i])*x[i])\n",
        "  new_theta0 = new_theta0 - ((alpha)*(theta0_gradient))/(m)\n",
        "  new_theta1 = new_theta1 - ((alpha)*(theta1_gradient))/(m)\n",
        "  return [new_theta0, new_theta1]"
      ],
      "execution_count": null,
      "outputs": []
    },
    {
      "cell_type": "code",
      "metadata": {
        "id": "7TR87LBa7yxy",
        "colab_type": "code",
        "colab": {}
      },
      "source": [
        "def gradient_runner(theta0, theta1, data, alpha, iterations):\n",
        "  for i in range(iterations):\n",
        "    theta0, theta1 = step_gradient(theta0, theta1, data, alpha)\n",
        "  return [theta0, theta1]"
      ],
      "execution_count": null,
      "outputs": []
    },
    {
      "cell_type": "code",
      "metadata": {
        "id": "61whlDyk8wPO",
        "colab_type": "code",
        "colab": {}
      },
      "source": [
        "data = np.genfromtxt('/ex1data1.txt', delimiter = ',')\n",
        "a,b = gradient_runner(0,0,data,0.01,1500)"
      ],
      "execution_count": null,
      "outputs": []
    },
    {
      "cell_type": "code",
      "metadata": {
        "id": "HDVSUbGb-Wrd",
        "colab_type": "code",
        "colab": {
          "base_uri": "https://localhost:8080/",
          "height": 266
        },
        "outputId": "058b24bb-8a8c-43aa-c83f-d323878e3dc4"
      },
      "source": [
        "plt.scatter(data[:,0], data[:,1], marker='x', color='r')\n",
        "formula = eval('a + b*data[:,0]')\n",
        "plt.plot(data[:,0], formula)\n",
        "plt.show()"
      ],
      "execution_count": null,
      "outputs": [
        {
          "output_type": "display_data",
          "data": {
            "image/png": "[encoded data removed]",
            "text/plain": [
              "<Figure size 432x288 with 1 Axes>"
            ]
          },
          "metadata": {
            "tags": []
          }
        }
      ]
    }
  ]
}