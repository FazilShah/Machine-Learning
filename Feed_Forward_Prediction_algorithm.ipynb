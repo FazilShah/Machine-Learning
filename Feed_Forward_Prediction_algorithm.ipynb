{
  "nbformat": 4,
  "nbformat_minor": 0,
  "metadata": {
    "colab": {
      "name": "Feed Forward Prediction algorithm.ipynb",
      "provenance": [],
      "authorship_tag": "ABX9TyOVhXl5GcBhdxgzYWD3TZNt",
      "include_colab_link": true
    },
    "kernelspec": {
      "name": "python3",
      "display_name": "Python 3"
    }
  },
  "cells": [
    {
      "cell_type": "markdown",
      "metadata": {
        "id": "view-in-github",
        "colab_type": "text"
      },
      "source": [
        "<a href=\"https://colab.research.google.com/github/FazilShah/Machine-Learning/blob/master/Feed_Forward_Prediction_algorithm.ipynb\" target=\"_parent\"><img src=\"https://colab.research.google.com/assets/colab-badge.svg\" alt=\"Open In Colab\"/></a>"
      ]
    },
    {
      "cell_type": "code",
      "metadata": {
        "id": "y9WJS36N7s69",
        "colab_type": "code",
        "colab": {}
      },
      "source": [
        "import numpy as np\n",
        "import pandas as pd"
      ],
      "execution_count": null,
      "outputs": []
    },
    {
      "cell_type": "code",
      "metadata": {
        "id": "lZVJaBZj75uA",
        "colab_type": "code",
        "colab": {}
      },
      "source": [
        "data = pd.ExcelFile('ex3d1.xlsx')\n",
        "X = pd.read_excel(data, 'X', header= None)\n",
        "theta1 = pd.read_excel(data, 'theta1', header = None)\n",
        "theta2 = pd.read_excel(data, 'theta2', header = None)                                                                                                                                                                                                                                                                                                                                                                                                                                                                                                                                                                                                                                                                                                                                                                                                                                                                                                                                                                                                                                                                                                                                                                                                                                                                                                                                                                                                                                                                                                                                                                                                                                                                                                                 "
      ],
      "execution_count": null,
      "outputs": []
    },
    {
      "cell_type": "code",
      "metadata": {
        "id": "b0-rgITZGW2k",
        "colab_type": "code",
        "colab": {}
      },
      "source": [
        "X.insert(0,'',1)"
      ],
      "execution_count": null,
      "outputs": []
    },
    {
      "cell_type": "code",
      "metadata": {
        "id": "Hfj_xGZkNquC",
        "colab_type": "code",
        "colab": {}
      },
      "source": [
        "XT = X.transpose()\n",
        "XTT = np.asarray(XT)"
      ],
      "execution_count": null,
      "outputs": []
    },
    {
      "cell_type": "code",
      "metadata": {
        "id": "nCbc8UHjNy0u",
        "colab_type": "code",
        "colab": {}
      },
      "source": [
        "theta11 = np.asarray(theta1)\n",
        "theta21 = np.asarray(theta2)"
      ],
      "execution_count": null,
      "outputs": []
    },
    {
      "cell_type": "code",
      "metadata": {
        "id": "_20qfgW0VZnn",
        "colab_type": "code",
        "colab": {}
      },
      "source": [
        "def predict(X, theta1, theta2):\n",
        "  a1 = np.asarray(X)\n",
        "  z2 = np.matmul(a1, np.transpose(np.asarray(theta1)))\n",
        "  a2 = h(z2)\n",
        "  xxx = np.insert(a2,0,1, axis =1)\n",
        "  z3 = np.matmul(xxx, np.transpose(np.asarray(theta2)))\n",
        "  a3 = h(z3)\n",
        "  return a3"
      ],
      "execution_count": null,
      "outputs": []
    },
    {
      "cell_type": "code",
      "metadata": {
        "id": "SQp9cg8MWIuY",
        "colab_type": "code",
        "colab": {}
      },
      "source": [
        "result = predict(X, theta1, theta2)"
      ],
      "execution_count": null,
      "outputs": []
    },
    {
      "cell_type": "code",
      "metadata": {
        "id": "MHWi8BChW2c_",
        "colab_type": "code",
        "colab": {}
      },
      "source": [
        "rrrr = np.where(np.max(result, axis = 1))"
      ],
      "execution_count": null,
      "outputs": []
    },
    {
      "cell_type": "code",
      "metadata": {
        "id": "V1FRadhjYJG-",
        "colab_type": "code",
        "colab": {}
      },
      "source": [
        "rt = pd.DataFrame(result)"
      ],
      "execution_count": null,
      "outputs": []
    },
    {
      "cell_type": "code",
      "metadata": {
        "id": "smo01Q9_YNZs",
        "colab_type": "code",
        "colab": {
          "base_uri": "https://localhost:8080/",
          "height": 406
        },
        "outputId": "3c513a71-ae14-4ece-eeb8-4decb1860fb0"
      },
      "source": [
        "rt"
      ],
      "execution_count": null,
      "outputs": [
        {
          "output_type": "execute_result",
          "data": {
            "text/html": [
              "<div>\n",
              "<style scoped>\n",
              "    .dataframe tbody tr th:only-of-type {\n",
              "        vertical-align: middle;\n",
              "    }\n",
              "\n",
              "    .dataframe tbody tr th {\n",
              "        vertical-align: top;\n",
              "    }\n",
              "\n",
              "    .dataframe thead th {\n",
              "        text-align: right;\n",
              "    }\n",
              "</style>\n",
              "<table border=\"1\" class=\"dataframe\">\n",
              "  <thead>\n",
              "    <tr style=\"text-align: right;\">\n",
              "      <th></th>\n",
              "      <th>0</th>\n",
              "      <th>1</th>\n",
              "      <th>2</th>\n",
              "      <th>3</th>\n",
              "      <th>4</th>\n",
              "      <th>5</th>\n",
              "      <th>6</th>\n",
              "      <th>7</th>\n",
              "      <th>8</th>\n",
              "      <th>9</th>\n",
              "    </tr>\n",
              "  </thead>\n",
              "  <tbody>\n",
              "    <tr>\n",
              "      <th>0</th>\n",
              "      <td>0.000113</td>\n",
              "      <td>0.001741</td>\n",
              "      <td>0.002527</td>\n",
              "      <td>0.000018</td>\n",
              "      <td>0.009363</td>\n",
              "      <td>0.003993</td>\n",
              "      <td>0.005515</td>\n",
              "      <td>0.000401</td>\n",
              "      <td>0.006481</td>\n",
              "      <td>0.995734</td>\n",
              "    </tr>\n",
              "    <tr>\n",
              "      <th>1</th>\n",
              "      <td>0.000479</td>\n",
              "      <td>0.002415</td>\n",
              "      <td>0.003448</td>\n",
              "      <td>0.000041</td>\n",
              "      <td>0.006534</td>\n",
              "      <td>0.001759</td>\n",
              "      <td>0.011579</td>\n",
              "      <td>0.002391</td>\n",
              "      <td>0.001970</td>\n",
              "      <td>0.995697</td>\n",
              "    </tr>\n",
              "    <tr>\n",
              "      <th>2</th>\n",
              "      <td>0.000089</td>\n",
              "      <td>0.003243</td>\n",
              "      <td>0.025542</td>\n",
              "      <td>0.000021</td>\n",
              "      <td>0.003969</td>\n",
              "      <td>0.010288</td>\n",
              "      <td>0.000387</td>\n",
              "      <td>0.062289</td>\n",
              "      <td>0.005498</td>\n",
              "      <td>0.928008</td>\n",
              "    </tr>\n",
              "    <tr>\n",
              "      <th>3</th>\n",
              "      <td>0.000056</td>\n",
              "      <td>0.008049</td>\n",
              "      <td>0.017830</td>\n",
              "      <td>0.000087</td>\n",
              "      <td>0.000642</td>\n",
              "      <td>0.011465</td>\n",
              "      <td>0.001852</td>\n",
              "      <td>0.004693</td>\n",
              "      <td>0.000821</td>\n",
              "      <td>0.994104</td>\n",
              "    </tr>\n",
              "    <tr>\n",
              "      <th>4</th>\n",
              "      <td>0.000106</td>\n",
              "      <td>0.001515</td>\n",
              "      <td>0.003806</td>\n",
              "      <td>0.000092</td>\n",
              "      <td>0.022629</td>\n",
              "      <td>0.000881</td>\n",
              "      <td>0.004736</td>\n",
              "      <td>0.001436</td>\n",
              "      <td>0.002096</td>\n",
              "      <td>0.992762</td>\n",
              "    </tr>\n",
              "    <tr>\n",
              "      <th>...</th>\n",
              "      <td>...</td>\n",
              "      <td>...</td>\n",
              "      <td>...</td>\n",
              "      <td>...</td>\n",
              "      <td>...</td>\n",
              "      <td>...</td>\n",
              "      <td>...</td>\n",
              "      <td>...</td>\n",
              "      <td>...</td>\n",
              "      <td>...</td>\n",
              "    </tr>\n",
              "    <tr>\n",
              "      <th>4995</th>\n",
              "      <td>0.001972</td>\n",
              "      <td>0.000191</td>\n",
              "      <td>0.000593</td>\n",
              "      <td>0.099971</td>\n",
              "      <td>0.008322</td>\n",
              "      <td>0.000965</td>\n",
              "      <td>0.003443</td>\n",
              "      <td>0.002355</td>\n",
              "      <td>0.954588</td>\n",
              "      <td>0.000166</td>\n",
              "    </tr>\n",
              "    <tr>\n",
              "      <th>4996</th>\n",
              "      <td>0.000048</td>\n",
              "      <td>0.001810</td>\n",
              "      <td>0.000023</td>\n",
              "      <td>0.002514</td>\n",
              "      <td>0.000429</td>\n",
              "      <td>0.004461</td>\n",
              "      <td>0.010707</td>\n",
              "      <td>0.030702</td>\n",
              "      <td>0.971134</td>\n",
              "      <td>0.006388</td>\n",
              "    </tr>\n",
              "    <tr>\n",
              "      <th>4997</th>\n",
              "      <td>0.051764</td>\n",
              "      <td>0.003817</td>\n",
              "      <td>0.029630</td>\n",
              "      <td>0.005878</td>\n",
              "      <td>0.014043</td>\n",
              "      <td>0.003600</td>\n",
              "      <td>0.000144</td>\n",
              "      <td>0.002157</td>\n",
              "      <td>0.649827</td>\n",
              "      <td>0.000024</td>\n",
              "    </tr>\n",
              "    <tr>\n",
              "      <th>4998</th>\n",
              "      <td>0.000831</td>\n",
              "      <td>0.000622</td>\n",
              "      <td>0.000315</td>\n",
              "      <td>0.071391</td>\n",
              "      <td>0.001958</td>\n",
              "      <td>0.000357</td>\n",
              "      <td>0.012052</td>\n",
              "      <td>0.011937</td>\n",
              "      <td>0.971410</td>\n",
              "      <td>0.000206</td>\n",
              "    </tr>\n",
              "    <tr>\n",
              "      <th>4999</th>\n",
              "      <td>0.000048</td>\n",
              "      <td>0.000459</td>\n",
              "      <td>0.000022</td>\n",
              "      <td>0.003317</td>\n",
              "      <td>0.000156</td>\n",
              "      <td>0.003027</td>\n",
              "      <td>0.036970</td>\n",
              "      <td>0.005734</td>\n",
              "      <td>0.696289</td>\n",
              "      <td>0.081858</td>\n",
              "    </tr>\n",
              "  </tbody>\n",
              "</table>\n",
              "<p>5000 rows × 10 columns</p>\n",
              "</div>"
            ],
            "text/plain": [
              "             0         1         2  ...         7         8         9\n",
              "0     0.000113  0.001741  0.002527  ...  0.000401  0.006481  0.995734\n",
              "1     0.000479  0.002415  0.003448  ...  0.002391  0.001970  0.995697\n",
              "2     0.000089  0.003243  0.025542  ...  0.062289  0.005498  0.928008\n",
              "3     0.000056  0.008049  0.017830  ...  0.004693  0.000821  0.994104\n",
              "4     0.000106  0.001515  0.003806  ...  0.001436  0.002096  0.992762\n",
              "...        ...       ...       ...  ...       ...       ...       ...\n",
              "4995  0.001972  0.000191  0.000593  ...  0.002355  0.954588  0.000166\n",
              "4996  0.000048  0.001810  0.000023  ...  0.030702  0.971134  0.006388\n",
              "4997  0.051764  0.003817  0.029630  ...  0.002157  0.649827  0.000024\n",
              "4998  0.000831  0.000622  0.000315  ...  0.011937  0.971410  0.000206\n",
              "4999  0.000048  0.000459  0.000022  ...  0.005734  0.696289  0.081858\n",
              "\n",
              "[5000 rows x 10 columns]"
            ]
          },
          "metadata": {
            "tags": []
          },
          "execution_count": 62
        }
      ]
    },
    {
      "cell_type": "code",
      "metadata": {
        "id": "NEghkPv0Ozu6",
        "colab_type": "code",
        "colab": {}
      },
      "source": [
        "def h(z):\n",
        "  return 1/(1+np.exp(-z))"
      ],
      "execution_count": null,
      "outputs": []
    }
  ]
}