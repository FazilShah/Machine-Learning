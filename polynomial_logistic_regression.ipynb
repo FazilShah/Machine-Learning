{
  "nbformat": 4,
  "nbformat_minor": 0,
  "metadata": {
    "colab": {
      "name": "polynomial logistic regression.ipynb",
      "provenance": [],
      "collapsed_sections": [],
      "authorship_tag": "ABX9TyP4W84uaNWNktS5VQZcqfmp",
      "include_colab_link": true
    },
    "kernelspec": {
      "name": "python3",
      "display_name": "Python 3"
    }
  },
  "cells": [
    {
      "cell_type": "markdown",
      "metadata": {
        "id": "view-in-github",
        "colab_type": "text"
      },
      "source": [
        "<a href=\"https://colab.research.google.com/github/FazilShah/Machine-Learning/blob/master/polynomial_logistic_regression.ipynb\" target=\"_parent\"><img src=\"https://colab.research.google.com/assets/colab-badge.svg\" alt=\"Open In Colab\"/></a>"
      ]
    },
    {
      "cell_type": "code",
      "metadata": {
        "id": "myVMMeYs7lJE",
        "colab_type": "code",
        "colab": {}
      },
      "source": [
        "import numpy as np\n",
        "import matplotlib.pyplot as plt\n"
      ],
      "execution_count": null,
      "outputs": []
    },
    {
      "cell_type": "code",
      "metadata": {
        "id": "m2SGo07k7zg4",
        "colab_type": "code",
        "colab": {}
      },
      "source": [
        "data = np.loadtxt('new data.txt', delimiter = ',')\n",
        "x1 = data[:,0]\n",
        "x2 = data[:,1]\n",
        "y = data[:,2]"
      ],
      "execution_count": null,
      "outputs": []
    },
    {
      "cell_type": "code",
      "metadata": {
        "id": "EjjvidIYBsc0",
        "colab_type": "code",
        "colab": {}
      },
      "source": [
        "def polynomial(x1,x2):\n",
        "  arr = []\n",
        "  for i in range(1,7):\n",
        "    for j in range(i+1):\n",
        "      term = (x1**(i-j))*x2**j\n",
        "      arr.append(term)\n",
        "  \n",
        "  return arr\n"
      ],
      "execution_count": null,
      "outputs": []
    },
    {
      "cell_type": "code",
      "metadata": {
        "id": "yDAtdJ0HVtIl",
        "colab_type": "code",
        "colab": {}
      },
      "source": [
        "def final(x1,x2):\n",
        "  arr = []\n",
        "  for i in range(118):\n",
        "    x = (polynomial(x1[i], x2[i]))\n",
        "    arr.append(x)\n",
        "  return arr"
      ],
      "execution_count": null,
      "outputs": []
    },
    {
      "cell_type": "code",
      "metadata": {
        "id": "LFfFwm-Qaiwx",
        "colab_type": "code",
        "colab": {}
      },
      "source": [
        "x = np.asarray(final(x1,x2))"
      ],
      "execution_count": null,
      "outputs": []
    },
    {
      "cell_type": "code",
      "metadata": {
        "id": "GBrrkkgJofW5",
        "colab_type": "code",
        "colab": {}
      },
      "source": [
        "thetas = np.zeros((28,1), dtype=float)"
      ],
      "execution_count": null,
      "outputs": []
    },
    {
      "cell_type": "code",
      "metadata": {
        "id": "DtuNhLNEU28s",
        "colab_type": "code",
        "colab": {}
      },
      "source": [
        "final = np.insert(x,0,1,axis=1)"
      ],
      "execution_count": null,
      "outputs": []
    },
    {
      "cell_type": "code",
      "metadata": {
        "id": "h5y0fEXR3BO-",
        "colab_type": "code",
        "colab": {}
      },
      "source": [
        "def sigmoid(z):\n",
        "  return 1/(1+np.exp(-z))"
      ],
      "execution_count": null,
      "outputs": []
    },
    {
      "cell_type": "code",
      "metadata": {
        "id": "--T3k9ml33HO",
        "colab_type": "code",
        "colab": {}
      },
      "source": [
        "def step_gradient(thetas, final, y, lamda, alpha):\n",
        "  new_thetas = thetas\n",
        "  initial_sum = 0\n",
        "  initial_sum2 = 0\n",
        "  thetas_update = np.empty((28,1), dtype = float)\n",
        "  for i in range(len(y)):\n",
        "    initial_sum = sigmoid(np.matmul(np.transpose(thetas), final[i,:])) - y[i]\n",
        "    initial_sum2 = np.transpose([initial_sum.item()*final[i,:]])\n",
        "    thetas_update += initial_sum2\n",
        "  new_thetas = (new_thetas*(1-(alpha*lamda)/len(y))) - ((alpha/len(y))*thetas_update)\n",
        "  return new_thetas"
      ],
      "execution_count": null,
      "outputs": []
    },
    {
      "cell_type": "code",
      "metadata": {
        "id": "HPuGLFga2SRd",
        "colab_type": "code",
        "colab": {}
      },
      "source": [
        "def gradient_descent(thetas, final, y, lamda, alpha, iterations):\n",
        "  for i in range(iterations):\n",
        "    thetas = step_gradient(thetas, final, y, lamda, alpha)\n",
        "  return thetas"
      ],
      "execution_count": null,
      "outputs": []
    },
    {
      "cell_type": "code",
      "metadata": {
        "id": "6n_Z3KD64kXn",
        "colab_type": "code",
        "colab": {}
      },
      "source": [
        "result = gradient_descent(thetas, final, y, 1, 0.1, 1000)"
      ],
      "execution_count": null,
      "outputs": []
    },
    {
      "cell_type": "code",
      "metadata": {
        "id": "RMclgTQkFhnV",
        "colab_type": "code",
        "colab": {}
      },
      "source": [
        "input_features = (polynomial(0.22,0.77))\n",
        "np.insert(input_features, 0, 1).s"
      ],
      "execution_count": null,
      "outputs": []
    },
    {
      "cell_type": "code",
      "metadata": {
        "id": "zHQIhztS_54l",
        "colab_type": "code",
        "colab": {}
      },
      "source": [
        "def predict(x,y):\n",
        "  input_features = np.asarray(polynomial(x,y))\n",
        "  new = np.insert(input_features, 0 ,1)\n",
        "  value = sigmoid(np.dot(np.transpose(result),new))\n",
        "  if value.item() >=0.5:\n",
        "    return 1\n",
        "  else: \n",
        "    return 0"
      ],
      "execution_count": null,
      "outputs": []
    },
    {
      "cell_type": "code",
      "metadata": {
        "id": "0L4RFKVtDgl2",
        "colab_type": "code",
        "colab": {}
      },
      "source": [
        "def accuracy():\n",
        "  count = 0\n",
        "  for i in range(118):\n",
        "    if predict(x1[i], x2[i]) == y[i]:\n",
        "      count+=1\n",
        "  return count"
      ],
      "execution_count": null,
      "outputs": []
    },
    {
      "cell_type": "code",
      "metadata": {
        "id": "e3i_fk0uLMqn",
        "colab_type": "code",
        "colab": {
          "base_uri": "https://localhost:8080/",
          "height": 34
        },
        "outputId": "38139c88-2c9d-4f8d-aa43-a4f91e49ca02"
      },
      "source": [
        "predict(1.5,1)"
      ],
      "execution_count": null,
      "outputs": [
        {
          "output_type": "execute_result",
          "data": {
            "text/plain": [
              "0"
            ]
          },
          "metadata": {
            "tags": []
          },
          "execution_count": 111
        }
      ]
    }
  ]
}